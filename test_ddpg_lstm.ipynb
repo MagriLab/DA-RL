{
 "cells": [
  {
   "cell_type": "code",
   "execution_count": 1,
   "metadata": {},
   "outputs": [],
   "source": [
    "import jax\n",
    "import jax.numpy as jnp\n",
    "from ddpg_lstm import DDPG\n",
    "from envs.KS_environment_jax import KSenv\n",
    "\n",
    "from configs.enKF_config import get_config as get_config_exp\n",
    "from configs.KS_config import get_config as get_config_env\n",
    "from replay_buffer_jax import add_experience, init_replay_buffer, sample_sequences\n",
    "from utils import covariance_matrix as cov"
   ]
  },
  {
   "cell_type": "code",
   "execution_count": 2,
   "metadata": {},
   "outputs": [],
   "source": [
    "config = get_config_exp()\n",
    "config.network.actor_n_hidden_state = 128\n",
    "config.network.critic_n_hidden_state = 128\n",
    "env_config = get_config_env()\n",
    "config.env = env_config\n",
    "# config.train.batch_size = 1\n",
    "env = KSenv(**config.env)\n",
    "agent = DDPG(config, env)"
   ]
  },
  {
   "cell_type": "code",
   "execution_count": 3,
   "metadata": {},
   "outputs": [],
   "source": [
    "# Init PRNG\n",
    "key = jax.random.PRNGKey(0)\n",
    "key, key_network, key_buffer, key_env, key_obs, key_action = jax.random.split(\n",
    "    key, 6\n",
    ")"
   ]
  },
  {
   "cell_type": "code",
   "execution_count": 4,
   "metadata": {},
   "outputs": [],
   "source": [
    "seq_len = 8\n",
    "\n",
    "# Dummy data\n",
    "dummy_obs_seq = jnp.zeros((config.train.batch_size, seq_len, env.num_observations))\n",
    "dummy_action_seq = jnp.zeros((config.train.batch_size, seq_len, env.action_size))\n",
    "dummy_reward_seq = jnp.zeros((config.train.batch_size, seq_len))\n",
    "dummy_terminated_seq = jnp.zeros((config.train.batch_size, seq_len))\n",
    "\n",
    "actor_state, critic_state = agent.initial_network_state(key_network, dummy_obs_seq, dummy_action_seq)"
   ]
  },
  {
   "cell_type": "code",
   "execution_count": 5,
   "metadata": {},
   "outputs": [],
   "source": [
    "from functools import partial\n",
    "# create some actual observations\n",
    "env_reset = partial(\n",
    "        KSenv.reset,\n",
    "        N=env.N,\n",
    "        B=env.ks_solver.B,\n",
    "        lin=env.ks_solver.lin,\n",
    "        ik=env.ks_solver.ik,\n",
    "        dt=env.ks_solver.dt,\n",
    "        initial_amplitude=env.initial_amplitude,\n",
    "        action_size=env.action_size,\n",
    "        burn_in=env.burn_in,\n",
    "        observation_inds=env.observation_inds,\n",
    "    )\n",
    "env_reset = jax.jit(env_reset)\n",
    "env_step = partial(\n",
    "    KSenv.step,\n",
    "    frame_skip=env.frame_skip,\n",
    "    B=env.ks_solver.B,\n",
    "    lin=env.ks_solver.lin,\n",
    "    ik=env.ks_solver.ik,\n",
    "    dt=env.ks_solver.dt,\n",
    "    target=env.target,\n",
    "    actuator_loss_weight=env.actuator_loss_weight,\n",
    "    termination_threshold=env.termination_threshold,\n",
    "    observation_inds=env.observation_inds,\n",
    ")\n",
    "env_step = jax.jit(env_step)\n",
    "env_sample_action = partial(\n",
    "    KSenv.sample_continuous_space,\n",
    "    low=env.action_low,\n",
    "    high=env.action_high,\n",
    "    shape=(env.action_size,),\n",
    ")\n",
    "env_sample_action = jax.jit(env_sample_action)\n",
    "\n",
    "# initialize buffer\n",
    "replay_buffer = init_replay_buffer(\n",
    "    capacity=config.replay_buffer.capacity,\n",
    "    state_dim=(env.num_observations,),\n",
    "    action_dim=(env.action_size,),\n",
    "    rng_key=key_buffer,\n",
    ")\n",
    "\n",
    "get_cov = partial(cov.get_prop, std=config.enKF.std_obs)\n",
    "def random_observe_and_forecast(\n",
    "        true_state,\n",
    "        true_obs,\n",
    "        obs,\n",
    "        wait_steps,\n",
    "        episode_steps,\n",
    "        key_obs,\n",
    "        key_action,\n",
    "        replay_buffer,\n",
    "    ):\n",
    "        def forecast_fun(carry, _):\n",
    "            true_state, true_obs, action = carry\n",
    "\n",
    "            # get the next observation and reward with this action\n",
    "            true_state, true_obs, reward, terminated, _, _ = env_step(\n",
    "                state=true_state, action=action\n",
    "            )\n",
    "\n",
    "            return (true_state, true_obs, action), (\n",
    "                true_state,\n",
    "                true_obs,\n",
    "                action,\n",
    "                reward,\n",
    "                terminated,\n",
    "            )\n",
    "\n",
    "        def body_fun(carry, _):\n",
    "            # observe\n",
    "            # we got an observation\n",
    "            true_state, true_obs, obs, key_obs, key_action, replay_buffer = carry\n",
    "\n",
    "            # get action\n",
    "            key_action, _ = jax.random.split(key_action)\n",
    "            action = env_sample_action(key=key_action)\n",
    "\n",
    "            # propagate environment with the given action\n",
    "            (next_true_state, next_true_obs, action), (\n",
    "                true_state_arr,\n",
    "                true_obs_arr,\n",
    "                action_arr,\n",
    "                reward_arr,\n",
    "                terminated_arr,\n",
    "            ) = jax.lax.scan(\n",
    "                forecast_fun,\n",
    "                (true_state, true_obs, action),\n",
    "                jnp.arange(wait_steps),\n",
    "            )\n",
    "\n",
    "            obs_cov = get_cov(y=true_obs)\n",
    "\n",
    "            # add noise on the observation\n",
    "            key_obs, _ = jax.random.split(key_obs)\n",
    "            next_obs = jax.random.multivariate_normal(\n",
    "                key_obs, next_true_obs, obs_cov, method=\"svd\"\n",
    "            )\n",
    "\n",
    "            # add\n",
    "            replay_buffer = add_experience(\n",
    "                replay_buffer, obs, action, reward_arr[-1], next_obs, terminated_arr[-1]\n",
    "            )\n",
    "            return (\n",
    "                next_true_state,\n",
    "                next_true_obs,\n",
    "                next_obs,\n",
    "                key_obs,\n",
    "                key_action,\n",
    "                replay_buffer,\n",
    "            ), (true_state_arr, true_obs_arr, next_obs, action_arr, reward_arr)\n",
    "\n",
    "        n_loops = episode_steps // wait_steps\n",
    "        (true_state, true_obs, obs, key_obs, key_action, replay_buffer), (\n",
    "            true_state_arr,\n",
    "            true_obs_arr,\n",
    "            obs_arr,\n",
    "            action_arr,\n",
    "            reward_arr,\n",
    "        ) = jax.lax.scan(\n",
    "            body_fun,\n",
    "            (true_state, true_obs, obs, key_obs, key_action, replay_buffer),\n",
    "            jnp.arange(n_loops),\n",
    "        )\n",
    "        return (\n",
    "            true_state,\n",
    "            true_obs,\n",
    "            obs,\n",
    "            key_obs,\n",
    "            key_action,\n",
    "            true_state_arr,\n",
    "            true_obs_arr,\n",
    "            obs_arr,\n",
    "            action_arr,\n",
    "            reward_arr,\n",
    "            replay_buffer,\n",
    "        )\n",
    "\n",
    "random_observe_and_forecast = partial(\n",
    "        random_observe_and_forecast,\n",
    "        wait_steps=config.enKF.wait_steps,\n",
    "        episode_steps=config.episode_steps - config.enKF.observation_starts,\n",
    "    )\n",
    "random_observe_and_forecast = jax.jit(random_observe_and_forecast)\n",
    "\n",
    "for _ in range(10):\n",
    "    # reset the environment\n",
    "    key_env, _, key_init = jax.random.split(key_env, 3)\n",
    "    init_true_state, _, _ = env_reset(key=key_env)\n",
    "    init_true_obs = init_true_state[env.observation_inds]\n",
    "\n",
    "    # add noise on the observation\n",
    "    obs_cov = get_cov(y=init_true_obs)\n",
    "    key_obs, _ = jax.random.split(key_obs)\n",
    "    first_obs = jax.random.multivariate_normal(\n",
    "        key_obs, init_true_obs, obs_cov, method=\"svd\"\n",
    "    )\n",
    "    \n",
    "    (\n",
    "        true_state,\n",
    "        true_obs,\n",
    "        obs,\n",
    "        key_obs,\n",
    "        key_action,\n",
    "        true_state_arr,\n",
    "        true_obs_arr,\n",
    "        obs_arr,\n",
    "        action_arr,\n",
    "        reward_arr,\n",
    "        replay_buffer,\n",
    "    ) = random_observe_and_forecast(\n",
    "    true_state=init_true_state,\n",
    "    true_obs=init_true_obs,\n",
    "    obs=first_obs,\n",
    "    key_obs=key_obs,\n",
    "    key_action=key_action,\n",
    "    replay_buffer=replay_buffer,\n",
    "    )\n"
   ]
  },
  {
   "cell_type": "code",
   "execution_count": 6,
   "metadata": {},
   "outputs": [],
   "source": [
    "q_losses = []\n",
    "policy_losses = []\n",
    "for _ in range(10):\n",
    "    (obs_seq, action_seq, next_obs_seq, reward_seq, terminated_seq), replay_buffer = sample_sequences(replay_buffer, \n",
    "                                                                                    batch_size=config.train.batch_size, \n",
    "                                                                                    seq_len=seq_len, \n",
    "                                                                                    episode_len=config.episode_steps)\n",
    "    critic_state, q_loss = agent.update_critic(actor_state, \n",
    "                        critic_state, \n",
    "                        obs_seq, \n",
    "                        action_seq, \n",
    "                        next_obs_seq, \n",
    "                        reward_seq,\n",
    "                        terminated_seq,\n",
    "                        )\n",
    "    \n",
    "    actor_state, policy_loss = agent.update_actor(actor_state, \n",
    "                        critic_state, \n",
    "                        obs_seq, \n",
    "                        action_seq, \n",
    "                        )\n",
    "    \n",
    "    q_losses.append(q_loss)\n",
    "    policy_losses.append(policy_loss)"
   ]
  },
  {
   "cell_type": "code",
   "execution_count": 7,
   "metadata": {},
   "outputs": [
    {
     "data": {
      "text/plain": [
       "[<matplotlib.lines.Line2D at 0x20230fe6b90>]"
      ]
     },
     "execution_count": 7,
     "metadata": {},
     "output_type": "execute_result"
    },
    {
     "data": {
      "image/png": "[encoded data removed]",
      "text/plain": [
       "<Figure size 640x480 with 1 Axes>"
      ]
     },
     "metadata": {},
     "output_type": "display_data"
    }
   ],
   "source": [
    "import matplotlib.pyplot as plt\n",
    "\n",
    "plt.plot(q_losses)"
   ]
  },
  {
   "cell_type": "code",
   "execution_count": 8,
   "metadata": {},
   "outputs": [
    {
     "data": {
      "text/plain": [
       "[<matplotlib.lines.Line2D at 0x202310ccdd0>]"
      ]
     },
     "execution_count": 8,
     "metadata": {},
     "output_type": "execute_result"
    },
    {
     "data": {
      "image/png": "[encoded data removed]",
      "text/plain": [
       "<Figure size 640x480 with 1 Axes>"
      ]
     },
     "metadata": {},
     "output_type": "display_data"
    }
   ],
   "source": [
    "plt.plot(policy_losses)"
   ]
  },
  {
   "cell_type": "code",
   "execution_count": 11,
   "metadata": {},
   "outputs": [],
   "source": [
    "obs = dummy_obs_seq[0][0]"
   ]
  },
  {
   "cell_type": "code",
   "execution_count": 12,
   "metadata": {},
   "outputs": [
    {
     "data": {
      "text/plain": [
       "Array([0., 0., 0., 0.], dtype=float64)"
      ]
     },
     "execution_count": 12,
     "metadata": {},
     "output_type": "execute_result"
    }
   ],
   "source": [
    "obs"
   ]
  },
  {
   "cell_type": "code",
   "execution_count": 22,
   "metadata": {},
   "outputs": [],
   "source": [
    "lstm_carry = agent.initialise_actor_carry(batch_size=1)\n",
    "action, next_lstm_carry = agent.actor.apply(actor_state.params, jnp.expand_dims(obs, axis=1), lstm_carry)"
   ]
  },
  {
   "cell_type": "code",
   "execution_count": 21,
   "metadata": {},
   "outputs": [
    {
     "data": {
      "text/plain": [
       "Array([[ 0.0192731 , -0.00732213,  0.01419498, -0.02127295,  0.01359643,\n",
       "         0.01798492, -0.01876408, -0.00160507],\n",
       "       [ 0.0192731 , -0.00732213,  0.01419498, -0.02127295,  0.01359643,\n",
       "         0.01798492, -0.01876408, -0.00160507]], dtype=float64)"
      ]
     },
     "execution_count": 21,
     "metadata": {},
     "output_type": "execute_result"
    }
   ],
   "source": [
    "action.squeeze()"
   ]
  }
 ],
 "metadata": {
  "kernelspec": {
   "display_name": ".venv",
   "language": "python",
   "name": "python3"
  },
  "language_info": {
   "codemirror_mode": {
    "name": "ipython",
    "version": 3
   },
   "file_extension": ".py",
   "mimetype": "text/x-python",
   "name": "python",
   "nbconvert_exporter": "python",
   "pygments_lexer": "ipython3",
   "version": "3.11.0"
  }
 },
 "nbformat": 4,
 "nbformat_minor": 2
}
